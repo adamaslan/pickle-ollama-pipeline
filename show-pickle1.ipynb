{
 "cells": [
  {
   "cell_type": "code",
   "execution_count": null,
   "metadata": {},
   "outputs": [],
   "source": [
    "def display_history():\n",
    "    \"\"\"Display the complete interaction history from pickle file\"\"\"\n",
    "    from datetime import datetime\n",
    "    \n",
    "    try:\n",
    "        with open(HISTORY_FILE, \"rb\") as f:\n",
    "            history = pickle.load(f)\n",
    "            \n",
    "            print(f\"📜 Conversation History\")\n",
    "            print(f\"🔖 Created at: {datetime.fromisoformat(history['created_at']).strftime('%Y-%m-%d %H:%M:%S')}\")\n",
    "            print(f\"Total interactions: {len(history['interactions'])}\")\n",
    "            print(\"-\" * 60)\n",
    "            \n",
    "            for idx, interaction in enumerate(history['interactions'], 1):\n",
    "                print(f\"\\n🔄 Interaction #{idx}\")\n",
    "                print(f\"⏰ Time: {datetime.fromisoformat(interaction['timestamp']).strftime('%m/%d %H:%M:%S')}\")\n",
    "                print(f\"🤖 Model: {interaction['model']}\")\n",
    "                print(f\"📝 Prompt: {interaction['prompt']}\")\n",
    "                print(f\"💡 Response: {interaction['response']}\")\n",
    "                if interaction['error']:\n",
    "                    print(f\"❌ Error: {interaction['error']}\")\n",
    "                print(f\"⏱️ Duration: {interaction['execution_time']}s\")\n",
    "                print(\"-\" * 60)\n",
    "                \n",
    "    except FileNotFoundError:\n",
    "        print(\"No history found - create your first interaction!\")\n",
    "    except Exception as e:\n",
    "        print(f\"Error reading history: {str(e)}\")\n",
    "\n",
    "# Run this in a new cell after saving some interactions\n",
    "display_history()"
   ]
  }
 ],
 "metadata": {
  "kernelspec": {
   "display_name": "nunu24",
   "language": "python",
   "name": "python3"
  },
  "language_info": {
   "name": "python",
   "version": "3.12.7"
  }
 },
 "nbformat": 4,
 "nbformat_minor": 2
}
